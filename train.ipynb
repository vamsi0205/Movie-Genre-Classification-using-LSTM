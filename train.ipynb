{
 "cells": [
  {
   "cell_type": "markdown",
   "id": "826f1ca2-13d3-4818-b7cf-23b97768392c",
   "metadata": {},
   "source": [
    "**Importing Necessary Libraries**"
   ]
  },
  {
   "cell_type": "code",
   "execution_count": 2,
   "id": "48e5429b-5af8-4f0e-a57f-b1cbde7be6f0",
   "metadata": {},
   "outputs": [],
   "source": [
    "import pandas as pd\n",
    "import re\n",
    "import nltk\n",
    "from nltk.corpus import stopwords\n",
    "from sklearn.model_selection import train_test_split\n",
    "from sklearn.preprocessing import LabelEncoder\n",
    "from tensorflow.keras.preprocessing.text import Tokenizer\n",
    "from tensorflow.keras.preprocessing.sequence import pad_sequences\n",
    "from tensorflow.keras.models import Sequential\n",
    "from tensorflow.keras.layers import Embedding, LSTM, Dense, Dropout, SpatialDropout1D\n",
    "from tensorflow.keras.utils import to_categorical\n",
    "from sklearn.metrics import classification_report"
   ]
  },
  {
   "cell_type": "markdown",
   "id": "e6cd1863-a0a4-45b7-9e7d-bdb67b93487d",
   "metadata": {},
   "source": [
    "**Loading the Training Data and converting into a dataframe**"
   ]
  },
  {
   "cell_type": "code",
   "execution_count": 13,
   "id": "a09cd839-7d52-41fe-8d26-824af49b94c0",
   "metadata": {},
   "outputs": [],
   "source": [
    "# Load and parse the data file\n",
    "def load_data(file_path):\n",
    "    records = []\n",
    "    with open(file_path, 'r', encoding='utf-8') as file:\n",
    "        for line in file:\n",
    "            parts = line.strip().split(\" ::: \")\n",
    "            if len(parts) == 4:\n",
    "                record_id, title, genre, plot_summary = parts\n",
    "                records.append({'title': title, 'genre': genre, 'plot_summary': plot_summary})\n",
    "    return pd.DataFrame(records)\n",
    "\n",
    "train_data=load_data(\"train_data.txt\")"
   ]
  },
  {
   "cell_type": "code",
   "execution_count": 15,
   "id": "ddfb209b-efc0-4c85-bf23-be0460bde383",
   "metadata": {},
   "outputs": [
    {
     "data": {
      "text/html": [
       "<div>\n",
       "<style scoped>\n",
       "    .dataframe tbody tr th:only-of-type {\n",
       "        vertical-align: middle;\n",
       "    }\n",
       "\n",
       "    .dataframe tbody tr th {\n",
       "        vertical-align: top;\n",
       "    }\n",
       "\n",
       "    .dataframe thead th {\n",
       "        text-align: right;\n",
       "    }\n",
       "</style>\n",
       "<table border=\"1\" class=\"dataframe\">\n",
       "  <thead>\n",
       "    <tr style=\"text-align: right;\">\n",
       "      <th></th>\n",
       "      <th>title</th>\n",
       "      <th>genre</th>\n",
       "      <th>plot_summary</th>\n",
       "    </tr>\n",
       "  </thead>\n",
       "  <tbody>\n",
       "    <tr>\n",
       "      <th>0</th>\n",
       "      <td>Oscar et la dame rose (2009)</td>\n",
       "      <td>drama</td>\n",
       "      <td>Listening in to a conversation between his doc...</td>\n",
       "    </tr>\n",
       "    <tr>\n",
       "      <th>1</th>\n",
       "      <td>Cupid (1997)</td>\n",
       "      <td>thriller</td>\n",
       "      <td>A brother and sister with a past incestuous re...</td>\n",
       "    </tr>\n",
       "    <tr>\n",
       "      <th>2</th>\n",
       "      <td>Young, Wild and Wonderful (1980)</td>\n",
       "      <td>adult</td>\n",
       "      <td>As the bus empties the students for their fiel...</td>\n",
       "    </tr>\n",
       "    <tr>\n",
       "      <th>3</th>\n",
       "      <td>The Secret Sin (1915)</td>\n",
       "      <td>drama</td>\n",
       "      <td>To help their unemployed father make ends meet...</td>\n",
       "    </tr>\n",
       "    <tr>\n",
       "      <th>4</th>\n",
       "      <td>The Unrecovered (2007)</td>\n",
       "      <td>drama</td>\n",
       "      <td>The film's title refers not only to the un-rec...</td>\n",
       "    </tr>\n",
       "    <tr>\n",
       "      <th>...</th>\n",
       "      <td>...</td>\n",
       "      <td>...</td>\n",
       "      <td>...</td>\n",
       "    </tr>\n",
       "    <tr>\n",
       "      <th>54209</th>\n",
       "      <td>\"Bonino\" (1953)</td>\n",
       "      <td>comedy</td>\n",
       "      <td>This short-lived NBC live sitcom centered on B...</td>\n",
       "    </tr>\n",
       "    <tr>\n",
       "      <th>54210</th>\n",
       "      <td>Dead Girls Don't Cry (????)</td>\n",
       "      <td>horror</td>\n",
       "      <td>The NEXT Generation of EXPLOITATION. The siste...</td>\n",
       "    </tr>\n",
       "    <tr>\n",
       "      <th>54211</th>\n",
       "      <td>Ronald Goedemondt: Ze bestaan echt (2008)</td>\n",
       "      <td>documentary</td>\n",
       "      <td>Ze bestaan echt, is a stand-up comedy about gr...</td>\n",
       "    </tr>\n",
       "    <tr>\n",
       "      <th>54212</th>\n",
       "      <td>Make Your Own Bed (1944)</td>\n",
       "      <td>comedy</td>\n",
       "      <td>Walter and Vivian live in the country and have...</td>\n",
       "    </tr>\n",
       "    <tr>\n",
       "      <th>54213</th>\n",
       "      <td>Nature's Fury: Storm of the Century (2006)</td>\n",
       "      <td>history</td>\n",
       "      <td>On Labor Day Weekend, 1935, the most intense h...</td>\n",
       "    </tr>\n",
       "  </tbody>\n",
       "</table>\n",
       "<p>54214 rows × 3 columns</p>\n",
       "</div>"
      ],
      "text/plain": [
       "                                            title        genre  \\\n",
       "0                    Oscar et la dame rose (2009)        drama   \n",
       "1                                    Cupid (1997)     thriller   \n",
       "2                Young, Wild and Wonderful (1980)        adult   \n",
       "3                           The Secret Sin (1915)        drama   \n",
       "4                          The Unrecovered (2007)        drama   \n",
       "...                                           ...          ...   \n",
       "54209                             \"Bonino\" (1953)       comedy   \n",
       "54210                 Dead Girls Don't Cry (????)       horror   \n",
       "54211   Ronald Goedemondt: Ze bestaan echt (2008)  documentary   \n",
       "54212                    Make Your Own Bed (1944)       comedy   \n",
       "54213  Nature's Fury: Storm of the Century (2006)      history   \n",
       "\n",
       "                                            plot_summary  \n",
       "0      Listening in to a conversation between his doc...  \n",
       "1      A brother and sister with a past incestuous re...  \n",
       "2      As the bus empties the students for their fiel...  \n",
       "3      To help their unemployed father make ends meet...  \n",
       "4      The film's title refers not only to the un-rec...  \n",
       "...                                                  ...  \n",
       "54209  This short-lived NBC live sitcom centered on B...  \n",
       "54210  The NEXT Generation of EXPLOITATION. The siste...  \n",
       "54211  Ze bestaan echt, is a stand-up comedy about gr...  \n",
       "54212  Walter and Vivian live in the country and have...  \n",
       "54213  On Labor Day Weekend, 1935, the most intense h...  \n",
       "\n",
       "[54214 rows x 3 columns]"
      ]
     },
     "execution_count": 15,
     "metadata": {},
     "output_type": "execute_result"
    }
   ],
   "source": [
    "train_data"
   ]
  },
  {
   "cell_type": "markdown",
   "id": "f69cc12b-8930-4828-b879-d4c5e0266580",
   "metadata": {},
   "source": [
    "**Preprocessing the Data**"
   ]
  },
  {
   "cell_type": "code",
   "execution_count": 16,
   "id": "8f4df541-173d-40ef-aa7e-5203233bb8f4",
   "metadata": {},
   "outputs": [],
   "source": [
    "def preprocess_text(text):\n",
    "    # Convert to lowercase\n",
    "    text = text.lower()\n",
    "    \n",
    "    # Remove punctuation and numbers\n",
    "    text = re.sub(r'[^a-z\\s]', '', text)\n",
    "    \n",
    "    # Remove extra spaces\"\n",
    "    text = re.sub(r'\\s+', ' ', text).strip()\n",
    "    return text"
   ]
  },
  {
   "cell_type": "code",
   "execution_count": 17,
   "id": "f8a893ba-dbee-4e05-b092-4f53832450d0",
   "metadata": {},
   "outputs": [],
   "source": [
    "# Apply text preprocessing\n",
    "train_data['plot_summary'] = train_data['plot_summary'].apply(preprocess_text)"
   ]
  },
  {
   "cell_type": "markdown",
   "id": "b568c09a-a14a-44ce-9eb6-431ac4f86ac2",
   "metadata": {},
   "source": [
    "**Removing the Stopwords**"
   ]
  },
  {
   "cell_type": "code",
   "execution_count": 18,
   "id": "48f9265d-30c3-4e8f-9432-3009a8f940ba",
   "metadata": {},
   "outputs": [
    {
     "data": {
      "text/plain": [
       "['i',\n",
       " 'me',\n",
       " 'my',\n",
       " 'myself',\n",
       " 'we',\n",
       " 'our',\n",
       " 'ours',\n",
       " 'ourselves',\n",
       " 'you',\n",
       " \"you're\",\n",
       " \"you've\",\n",
       " \"you'll\",\n",
       " \"you'd\",\n",
       " 'your',\n",
       " 'yours',\n",
       " 'yourself',\n",
       " 'yourselves',\n",
       " 'he',\n",
       " 'him',\n",
       " 'his',\n",
       " 'himself',\n",
       " 'she',\n",
       " \"she's\",\n",
       " 'her',\n",
       " 'hers',\n",
       " 'herself',\n",
       " 'it',\n",
       " \"it's\",\n",
       " 'its',\n",
       " 'itself',\n",
       " 'they',\n",
       " 'them',\n",
       " 'their',\n",
       " 'theirs',\n",
       " 'themselves',\n",
       " 'what',\n",
       " 'which',\n",
       " 'who',\n",
       " 'whom',\n",
       " 'this',\n",
       " 'that',\n",
       " \"that'll\",\n",
       " 'these',\n",
       " 'those',\n",
       " 'am',\n",
       " 'is',\n",
       " 'are',\n",
       " 'was',\n",
       " 'were',\n",
       " 'be',\n",
       " 'been',\n",
       " 'being',\n",
       " 'have',\n",
       " 'has',\n",
       " 'had',\n",
       " 'having',\n",
       " 'do',\n",
       " 'does',\n",
       " 'did',\n",
       " 'doing',\n",
       " 'a',\n",
       " 'an',\n",
       " 'the',\n",
       " 'and',\n",
       " 'but',\n",
       " 'if',\n",
       " 'or',\n",
       " 'because',\n",
       " 'as',\n",
       " 'until',\n",
       " 'while',\n",
       " 'of',\n",
       " 'at',\n",
       " 'by',\n",
       " 'for',\n",
       " 'with',\n",
       " 'about',\n",
       " 'against',\n",
       " 'between',\n",
       " 'into',\n",
       " 'through',\n",
       " 'during',\n",
       " 'before',\n",
       " 'after',\n",
       " 'above',\n",
       " 'below',\n",
       " 'to',\n",
       " 'from',\n",
       " 'up',\n",
       " 'down',\n",
       " 'in',\n",
       " 'out',\n",
       " 'on',\n",
       " 'off',\n",
       " 'over',\n",
       " 'under',\n",
       " 'again',\n",
       " 'further',\n",
       " 'then',\n",
       " 'once',\n",
       " 'here',\n",
       " 'there',\n",
       " 'when',\n",
       " 'where',\n",
       " 'why',\n",
       " 'how',\n",
       " 'all',\n",
       " 'any',\n",
       " 'both',\n",
       " 'each',\n",
       " 'few',\n",
       " 'more',\n",
       " 'most',\n",
       " 'other',\n",
       " 'some',\n",
       " 'such',\n",
       " 'no',\n",
       " 'nor',\n",
       " 'not',\n",
       " 'only',\n",
       " 'own',\n",
       " 'same',\n",
       " 'so',\n",
       " 'than',\n",
       " 'too',\n",
       " 'very',\n",
       " 's',\n",
       " 't',\n",
       " 'can',\n",
       " 'will',\n",
       " 'just',\n",
       " 'don',\n",
       " \"don't\",\n",
       " 'should',\n",
       " \"should've\",\n",
       " 'now',\n",
       " 'd',\n",
       " 'll',\n",
       " 'm',\n",
       " 'o',\n",
       " 're',\n",
       " 've',\n",
       " 'y',\n",
       " 'ain',\n",
       " 'aren',\n",
       " \"aren't\",\n",
       " 'couldn',\n",
       " \"couldn't\",\n",
       " 'didn',\n",
       " \"didn't\",\n",
       " 'doesn',\n",
       " \"doesn't\",\n",
       " 'hadn',\n",
       " \"hadn't\",\n",
       " 'hasn',\n",
       " \"hasn't\",\n",
       " 'haven',\n",
       " \"haven't\",\n",
       " 'isn',\n",
       " \"isn't\",\n",
       " 'ma',\n",
       " 'mightn',\n",
       " \"mightn't\",\n",
       " 'mustn',\n",
       " \"mustn't\",\n",
       " 'needn',\n",
       " \"needn't\",\n",
       " 'shan',\n",
       " \"shan't\",\n",
       " 'shouldn',\n",
       " \"shouldn't\",\n",
       " 'wasn',\n",
       " \"wasn't\",\n",
       " 'weren',\n",
       " \"weren't\",\n",
       " 'won',\n",
       " \"won't\",\n",
       " 'wouldn',\n",
       " \"wouldn't\"]"
      ]
     },
     "execution_count": 18,
     "metadata": {},
     "output_type": "execute_result"
    }
   ],
   "source": [
    "from nltk.corpus import stopwords as sw\n",
    "#nltk.download('stopwords') \n",
    "sw.words('english')"
   ]
  },
  {
   "cell_type": "code",
   "execution_count": 19,
   "id": "aaf81e6d-ea88-4fc8-aeb5-4f87a2d50d9a",
   "metadata": {},
   "outputs": [],
   "source": [
    "# Remove stopwords\n",
    "def remove_stopwords(text):\n",
    "    stop_words = set(sw.words('english'))\n",
    "    return ' '.join([word for word in text.split() if word not in stop_words])"
   ]
  },
  {
   "cell_type": "code",
   "execution_count": 20,
   "id": "50503208-1fb4-4057-9afc-5ec99daab691",
   "metadata": {},
   "outputs": [],
   "source": [
    " # Remove stopwords\n",
    "train_data['plot_summary'] = train_data['plot_summary'].apply(remove_stopwords)"
   ]
  },
  {
   "cell_type": "code",
   "execution_count": 23,
   "id": "ba959e76-f46b-4a53-976f-42898b18bbd5",
   "metadata": {},
   "outputs": [
    {
     "data": {
      "text/plain": [
       "1    brother sister past incestuous relationship cu...\n",
       "2    bus empties students field trip museum natural...\n",
       "3    help unemployed father make ends meet edith tw...\n",
       "4    films title refers unrecovered bodies ground z...\n",
       "Name: plot_summary, dtype: object"
      ]
     },
     "execution_count": 23,
     "metadata": {},
     "output_type": "execute_result"
    }
   ],
   "source": [
    "train_data['plot_summary'][1:5]"
   ]
  },
  {
   "cell_type": "markdown",
   "id": "1d1d8ee6-8ded-4a27-b78f-f8781cbadb84",
   "metadata": {},
   "source": [
    "**Loading the Test data and converting it into a dataframe**"
   ]
  },
  {
   "cell_type": "code",
   "execution_count": 22,
   "id": "65ec54c5-28ca-4292-b2dd-03b330104675",
   "metadata": {},
   "outputs": [],
   "source": [
    "test_file_path = 'test_data_solution.txt'  # Replace with your actual testing file path\n",
    "test_data = load_data(test_file_path)\n",
    "\n",
    "# Apply text preprocessing\n",
    "test_data['plot_summary'] = test_data['plot_summary'].apply(preprocess_text)\n",
    "\n",
    "# Remove stopwords\n",
    "test_data['plot_summary'] = test_data['plot_summary'].apply(remove_stopwords)"
   ]
  },
  {
   "cell_type": "markdown",
   "id": "22bc3e3d-ac4f-4ddd-88ac-86e09978525a",
   "metadata": {},
   "source": [
    "**Encode the labels**"
   ]
  },
  {
   "cell_type": "code",
   "execution_count": 24,
   "id": "5069eb24-ad4a-46ae-b9d9-7c34b11115a9",
   "metadata": {},
   "outputs": [],
   "source": [
    "label_encoder = LabelEncoder()\n",
    "train_data['genre'] = label_encoder.fit_transform(train_data['genre'])\n",
    "test_data['genre'] = label_encoder.transform(test_data['genre'])"
   ]
  },
  {
   "cell_type": "markdown",
   "id": "e8c89412-8309-4521-8adf-2275c4450f47",
   "metadata": {},
   "source": [
    "**Tokenize the text data**"
   ]
  },
  {
   "cell_type": "code",
   "execution_count": 25,
   "id": "bb8b78a2-7e37-4c19-8e78-7d9206e8547d",
   "metadata": {},
   "outputs": [],
   "source": [
    "tokenizer = Tokenizer(num_words=5000)\n",
    "tokenizer.fit_on_texts(train_data['plot_summary'])\n",
    "X_train_seq = tokenizer.texts_to_sequences(train_data['plot_summary'])\n",
    "X_test_seq = tokenizer.texts_to_sequences(test_data['plot_summary'])"
   ]
  },
  {
   "cell_type": "markdown",
   "id": "f257193e-0eaf-4828-9944-d133c8e66d84",
   "metadata": {},
   "source": [
    "**Pad the sequences**"
   ]
  },
  {
   "cell_type": "code",
   "execution_count": 26,
   "id": "3a56aa8e-cf32-42e9-be2b-88c206d24824",
   "metadata": {},
   "outputs": [],
   "source": [
    "max_seq_length = 100\n",
    "X_train_pad = pad_sequences(X_train_seq, maxlen=max_seq_length)\n",
    "X_test_pad = pad_sequences(X_test_seq, maxlen=max_seq_length)"
   ]
  },
  {
   "cell_type": "markdown",
   "id": "0da1d0a0-c7a6-4c72-8226-e3acb39be76a",
   "metadata": {},
   "source": [
    "**Convert labels to categorical**"
   ]
  },
  {
   "cell_type": "code",
   "execution_count": 27,
   "id": "16a0be71-5523-49b9-b208-5b715c8fad2b",
   "metadata": {},
   "outputs": [],
   "source": [
    "num_classes = len(label_encoder.classes_)\n",
    "y_train_cat = to_categorical(train_data['genre'], num_classes)\n",
    "y_test_cat = to_categorical(test_data['genre'], num_classes)"
   ]
  },
  {
   "cell_type": "markdown",
   "id": "acaf58c5-da0f-4cbd-949f-7583d8950dc5",
   "metadata": {},
   "source": [
    "**Define the LSTM model**"
   ]
  },
  {
   "cell_type": "code",
   "execution_count": 28,
   "id": "8be25b0d-a530-468f-b3bc-82e44daf8b3f",
   "metadata": {},
   "outputs": [
    {
     "name": "stderr",
     "output_type": "stream",
     "text": [
      "C:\\Users\\RAMPALLI VAMSI\\AppData\\Local\\Packages\\PythonSoftwareFoundation.Python.3.10_qbz5n2kfra8p0\\LocalCache\\local-packages\\Python310\\site-packages\\keras\\src\\layers\\core\\embedding.py:90: UserWarning: Argument `input_length` is deprecated. Just remove it.\n",
      "  warnings.warn(\n"
     ]
    }
   ],
   "source": [
    "model = Sequential()\n",
    "model.add(Embedding(input_dim=5000, output_dim=128))\n",
    "model.add(SpatialDropout1D(0.2))\n",
    "model.add(LSTM(100, dropout=0.2, recurrent_dropout=0.2))\n",
    "model.add(Dense(num_classes, activation='softmax'))"
   ]
  },
  {
   "cell_type": "code",
   "execution_count": 29,
   "id": "275e8119-7907-4904-93e1-2046e5d5cc18",
   "metadata": {},
   "outputs": [],
   "source": [
    "model.compile(loss='categorical_crossentropy', optimizer='adam', metrics=['accuracy'])"
   ]
  },
  {
   "cell_type": "markdown",
   "id": "70280e94-d47f-4e44-b5d2-2631e8c26a31",
   "metadata": {},
   "source": [
    "**Train the model**"
   ]
  },
  {
   "cell_type": "code",
   "execution_count": 31,
   "id": "af61675b-3bc1-45c0-a35a-6e9d8323d412",
   "metadata": {},
   "outputs": [
    {
     "name": "stdout",
     "output_type": "stream",
     "text": [
      "Epoch 1/50\n",
      "848/848 - 111s - 131ms/step - accuracy: 0.6639 - loss: 1.1097 - val_accuracy: 0.5708 - val_loss: 1.4616\n",
      "Epoch 2/50\n",
      "848/848 - 111s - 130ms/step - accuracy: 0.6816 - loss: 1.0446 - val_accuracy: 0.5652 - val_loss: 1.4868\n",
      "Epoch 3/50\n",
      "848/848 - 111s - 130ms/step - accuracy: 0.6979 - loss: 0.9846 - val_accuracy: 0.5657 - val_loss: 1.5323\n",
      "Epoch 4/50\n",
      "848/848 - 110s - 130ms/step - accuracy: 0.7096 - loss: 0.9356 - val_accuracy: 0.5600 - val_loss: 1.5600\n",
      "Epoch 5/50\n",
      "848/848 - 110s - 129ms/step - accuracy: 0.7227 - loss: 0.8835 - val_accuracy: 0.5559 - val_loss: 1.5973\n",
      "Epoch 6/50\n",
      "848/848 - 111s - 130ms/step - accuracy: 0.7381 - loss: 0.8345 - val_accuracy: 0.5553 - val_loss: 1.6688\n",
      "Epoch 7/50\n",
      "848/848 - 110s - 130ms/step - accuracy: 0.7515 - loss: 0.7910 - val_accuracy: 0.5440 - val_loss: 1.6922\n",
      "Epoch 8/50\n",
      "848/848 - 110s - 130ms/step - accuracy: 0.7615 - loss: 0.7519 - val_accuracy: 0.5489 - val_loss: 1.7371\n",
      "Epoch 9/50\n",
      "848/848 - 110s - 130ms/step - accuracy: 0.7706 - loss: 0.7158 - val_accuracy: 0.5454 - val_loss: 1.7967\n",
      "Epoch 10/50\n",
      "848/848 - 110s - 130ms/step - accuracy: 0.7845 - loss: 0.6693 - val_accuracy: 0.5416 - val_loss: 1.8421\n",
      "Epoch 11/50\n",
      "848/848 - 110s - 130ms/step - accuracy: 0.7939 - loss: 0.6362 - val_accuracy: 0.5384 - val_loss: 1.8982\n",
      "Epoch 12/50\n",
      "848/848 - 110s - 130ms/step - accuracy: 0.8013 - loss: 0.6039 - val_accuracy: 0.5322 - val_loss: 1.9568\n",
      "Epoch 13/50\n",
      "848/848 - 110s - 130ms/step - accuracy: 0.8110 - loss: 0.5749 - val_accuracy: 0.5277 - val_loss: 2.0004\n",
      "Epoch 14/50\n",
      "848/848 - 110s - 130ms/step - accuracy: 0.8221 - loss: 0.5405 - val_accuracy: 0.5311 - val_loss: 2.0678\n",
      "Epoch 15/50\n",
      "848/848 - 111s - 130ms/step - accuracy: 0.8301 - loss: 0.5192 - val_accuracy: 0.5244 - val_loss: 2.1091\n",
      "Epoch 16/50\n",
      "848/848 - 110s - 130ms/step - accuracy: 0.8374 - loss: 0.4914 - val_accuracy: 0.5283 - val_loss: 2.1488\n",
      "Epoch 17/50\n",
      "848/848 - 111s - 130ms/step - accuracy: 0.8428 - loss: 0.4708 - val_accuracy: 0.5270 - val_loss: 2.2177\n",
      "Epoch 18/50\n",
      "848/848 - 111s - 130ms/step - accuracy: 0.8515 - loss: 0.4468 - val_accuracy: 0.5252 - val_loss: 2.2512\n",
      "Epoch 19/50\n",
      "848/848 - 111s - 131ms/step - accuracy: 0.8580 - loss: 0.4276 - val_accuracy: 0.5224 - val_loss: 2.2995\n",
      "Epoch 20/50\n",
      "848/848 - 113s - 134ms/step - accuracy: 0.8616 - loss: 0.4078 - val_accuracy: 0.5199 - val_loss: 2.3471\n",
      "Epoch 21/50\n",
      "848/848 - 111s - 131ms/step - accuracy: 0.8688 - loss: 0.3912 - val_accuracy: 0.5203 - val_loss: 2.4014\n",
      "Epoch 22/50\n",
      "848/848 - 111s - 131ms/step - accuracy: 0.8734 - loss: 0.3741 - val_accuracy: 0.5201 - val_loss: 2.4596\n",
      "Epoch 23/50\n",
      "848/848 - 111s - 131ms/step - accuracy: 0.8775 - loss: 0.3617 - val_accuracy: 0.5196 - val_loss: 2.5018\n",
      "Epoch 24/50\n",
      "848/848 - 111s - 131ms/step - accuracy: 0.8811 - loss: 0.3488 - val_accuracy: 0.5233 - val_loss: 2.5257\n",
      "Epoch 25/50\n",
      "848/848 - 111s - 131ms/step - accuracy: 0.8839 - loss: 0.3412 - val_accuracy: 0.5215 - val_loss: 2.5774\n",
      "Epoch 26/50\n",
      "848/848 - 111s - 131ms/step - accuracy: 0.8874 - loss: 0.3284 - val_accuracy: 0.5198 - val_loss: 2.5848\n",
      "Epoch 27/50\n",
      "848/848 - 111s - 131ms/step - accuracy: 0.8924 - loss: 0.3151 - val_accuracy: 0.5165 - val_loss: 2.6362\n",
      "Epoch 28/50\n",
      "848/848 - 111s - 131ms/step - accuracy: 0.8960 - loss: 0.3072 - val_accuracy: 0.5221 - val_loss: 2.6958\n",
      "Epoch 29/50\n",
      "848/848 - 112s - 132ms/step - accuracy: 0.8976 - loss: 0.2985 - val_accuracy: 0.5158 - val_loss: 2.6931\n",
      "Epoch 30/50\n",
      "848/848 - 112s - 132ms/step - accuracy: 0.8989 - loss: 0.2928 - val_accuracy: 0.5166 - val_loss: 2.7218\n",
      "Epoch 31/50\n",
      "848/848 - 67s - 79ms/step - accuracy: 0.9035 - loss: 0.2792 - val_accuracy: 0.5196 - val_loss: 2.7817\n",
      "Epoch 32/50\n",
      "848/848 - 60s - 71ms/step - accuracy: 0.9044 - loss: 0.2768 - val_accuracy: 0.5185 - val_loss: 2.8006\n",
      "Epoch 33/50\n",
      "848/848 - 61s - 71ms/step - accuracy: 0.9074 - loss: 0.2721 - val_accuracy: 0.5166 - val_loss: 2.8347\n",
      "Epoch 34/50\n",
      "848/848 - 59s - 70ms/step - accuracy: 0.9095 - loss: 0.2641 - val_accuracy: 0.5132 - val_loss: 2.8446\n",
      "Epoch 35/50\n",
      "848/848 - 59s - 70ms/step - accuracy: 0.9107 - loss: 0.2557 - val_accuracy: 0.5171 - val_loss: 2.8933\n",
      "Epoch 36/50\n",
      "848/848 - 64s - 76ms/step - accuracy: 0.9124 - loss: 0.2539 - val_accuracy: 0.5148 - val_loss: 2.8903\n",
      "Epoch 37/50\n",
      "848/848 - 63s - 74ms/step - accuracy: 0.9147 - loss: 0.2465 - val_accuracy: 0.5175 - val_loss: 2.9145\n",
      "Epoch 38/50\n",
      "848/848 - 63s - 74ms/step - accuracy: 0.9170 - loss: 0.2402 - val_accuracy: 0.5109 - val_loss: 2.9385\n",
      "Epoch 39/50\n",
      "848/848 - 60s - 71ms/step - accuracy: 0.9183 - loss: 0.2387 - val_accuracy: 0.5147 - val_loss: 2.9808\n",
      "Epoch 40/50\n",
      "848/848 - 59s - 69ms/step - accuracy: 0.9189 - loss: 0.2365 - val_accuracy: 0.5159 - val_loss: 2.9787\n",
      "Epoch 41/50\n",
      "848/848 - 59s - 70ms/step - accuracy: 0.9230 - loss: 0.2266 - val_accuracy: 0.5171 - val_loss: 3.0147\n",
      "Epoch 42/50\n",
      "848/848 - 59s - 69ms/step - accuracy: 0.9212 - loss: 0.2263 - val_accuracy: 0.5174 - val_loss: 3.0247\n",
      "Epoch 43/50\n",
      "848/848 - 59s - 70ms/step - accuracy: 0.9229 - loss: 0.2217 - val_accuracy: 0.5176 - val_loss: 3.0518\n",
      "Epoch 44/50\n",
      "848/848 - 59s - 69ms/step - accuracy: 0.9251 - loss: 0.2174 - val_accuracy: 0.5162 - val_loss: 3.0816\n",
      "Epoch 45/50\n",
      "848/848 - 58s - 69ms/step - accuracy: 0.9278 - loss: 0.2079 - val_accuracy: 0.5175 - val_loss: 3.1055\n",
      "Epoch 46/50\n",
      "848/848 - 58s - 69ms/step - accuracy: 0.9275 - loss: 0.2095 - val_accuracy: 0.5165 - val_loss: 3.1240\n",
      "Epoch 47/50\n",
      "848/848 - 59s - 69ms/step - accuracy: 0.9284 - loss: 0.2083 - val_accuracy: 0.5135 - val_loss: 3.1414\n",
      "Epoch 48/50\n",
      "848/848 - 58s - 69ms/step - accuracy: 0.9288 - loss: 0.2067 - val_accuracy: 0.5163 - val_loss: 3.1778\n",
      "Epoch 49/50\n",
      "848/848 - 58s - 69ms/step - accuracy: 0.9290 - loss: 0.2049 - val_accuracy: 0.5154 - val_loss: 3.1634\n",
      "Epoch 50/50\n",
      "848/848 - 59s - 69ms/step - accuracy: 0.9294 - loss: 0.2035 - val_accuracy: 0.5154 - val_loss: 3.1477\n"
     ]
    },
    {
     "data": {
      "text/plain": [
       "<keras.src.callbacks.history.History at 0x1d2be43cd90>"
      ]
     },
     "execution_count": 31,
     "metadata": {},
     "output_type": "execute_result"
    }
   ],
   "source": [
    "model.fit(X_train_pad, y_train_cat, epochs=50, batch_size=64, validation_data=(X_test_pad, y_test_cat), verbose=2)"
   ]
  },
  {
   "cell_type": "markdown",
   "id": "0a2d2324-d4ee-4ebd-9f6d-2e77e96dcb65",
   "metadata": {},
   "source": [
    "**Save the model**"
   ]
  },
  {
   "cell_type": "code",
   "execution_count": 33,
   "id": "d70f1103-62f3-40b5-a912-f7f76b4fb929",
   "metadata": {},
   "outputs": [],
   "source": [
    "model.save('movie_genre_model.keras')"
   ]
  },
  {
   "cell_type": "markdown",
   "id": "2ef83be5-97d5-4edf-922d-1cae55273ed0",
   "metadata": {},
   "source": [
    "**Evaluate the model**"
   ]
  },
  {
   "cell_type": "code",
   "execution_count": 34,
   "id": "d9529edc-8ced-4d8c-81d3-15705ea71966",
   "metadata": {},
   "outputs": [
    {
     "name": "stdout",
     "output_type": "stream",
     "text": [
      "\u001b[1m1694/1694\u001b[0m \u001b[32m━━━━━━━━━━━━━━━━━━━━\u001b[0m\u001b[37m\u001b[0m \u001b[1m21s\u001b[0m 12ms/step\n"
     ]
    }
   ],
   "source": [
    "y_pred = model.predict(X_test_pad)\n",
    "y_pred_classes = y_pred.argmax(axis=-1)"
   ]
  },
  {
   "cell_type": "code",
   "execution_count": null,
   "id": "a3269b82-c42d-405c-bc42-b0268b22a5ba",
   "metadata": {},
   "outputs": [],
   "source": [
    "y_pred"
   ]
  },
  {
   "cell_type": "markdown",
   "id": "fbaa833b-90c3-4aed-b513-b8d5ef6ca5f0",
   "metadata": {},
   "source": [
    "**Print the classification report**"
   ]
  },
  {
   "cell_type": "code",
   "execution_count": 35,
   "id": "d275d2b6-6618-413a-9ac8-efa760912d03",
   "metadata": {},
   "outputs": [
    {
     "name": "stdout",
     "output_type": "stream",
     "text": [
      "LSTM Classification Report:\n",
      "              precision    recall  f1-score   support\n",
      "\n",
      "      action       0.32      0.32      0.32      1314\n",
      "       adult       0.41      0.35      0.38       590\n",
      "   adventure       0.25      0.21      0.23       775\n",
      "   animation       0.19      0.19      0.19       498\n",
      "   biography       0.02      0.01      0.02       264\n",
      "      comedy       0.48      0.51      0.50      7446\n",
      "       crime       0.14      0.10      0.12       505\n",
      " documentary       0.70      0.73      0.71     13096\n",
      "       drama       0.55      0.60      0.58     13612\n",
      "      family       0.20      0.13      0.16       783\n",
      "     fantasy       0.12      0.07      0.09       322\n",
      "   game-show       0.60      0.63      0.62       193\n",
      "     history       0.05      0.04      0.05       243\n",
      "      horror       0.55      0.51      0.53      2204\n",
      "       music       0.51      0.49      0.50       731\n",
      "     musical       0.17      0.13      0.15       276\n",
      "     mystery       0.10      0.06      0.08       318\n",
      "        news       0.14      0.10      0.12       181\n",
      "  reality-tv       0.29      0.27      0.28       883\n",
      "     romance       0.14      0.10      0.12       672\n",
      "      sci-fi       0.35      0.32      0.33       646\n",
      "       short       0.36      0.33      0.34      5072\n",
      "       sport       0.44      0.34      0.38       431\n",
      "   talk-show       0.33      0.28      0.30       391\n",
      "    thriller       0.24      0.22      0.23      1590\n",
      "         war       0.25      0.23      0.24       132\n",
      "     western       0.79      0.75      0.77      1032\n",
      "\n",
      "    accuracy                           0.52     54200\n",
      "   macro avg       0.32      0.30      0.31     54200\n",
      "weighted avg       0.50      0.52      0.51     54200\n",
      "\n"
     ]
    }
   ],
   "source": [
    "print(\"LSTM Classification Report:\")\n",
    "print(classification_report(test_data['genre'], y_pred_classes, target_names=label_encoder.classes_))"
   ]
  },
  {
   "cell_type": "code",
   "execution_count": null,
   "id": "210d8f65-e04b-4ea7-83b5-80584747cd17",
   "metadata": {},
   "outputs": [],
   "source": []
  },
  {
   "cell_type": "code",
   "execution_count": null,
   "id": "dec21cd1-21c9-4a5f-bec8-15e8606ace65",
   "metadata": {},
   "outputs": [],
   "source": []
  },
  {
   "cell_type": "code",
   "execution_count": null,
   "id": "295600b0-aba2-48b6-a26e-d9ab85ac47f1",
   "metadata": {},
   "outputs": [],
   "source": []
  },
  {
   "cell_type": "code",
   "execution_count": null,
   "id": "aec3ac2e-689d-4090-a7fd-0d503484b9a5",
   "metadata": {},
   "outputs": [],
   "source": []
  }
 ],
 "metadata": {
  "kernelspec": {
   "display_name": "Python 3 (ipykernel)",
   "language": "python",
   "name": "python3"
  },
  "language_info": {
   "codemirror_mode": {
    "name": "ipython",
    "version": 3
   },
   "file_extension": ".py",
   "mimetype": "text/x-python",
   "name": "python",
   "nbconvert_exporter": "python",
   "pygments_lexer": "ipython3",
   "version": "3.10.11"
  }
 },
 "nbformat": 4,
 "nbformat_minor": 5
}
